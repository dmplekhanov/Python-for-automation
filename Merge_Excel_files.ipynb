{
 "cells": [
  {
   "cell_type": "code",
   "execution_count": null,
   "metadata": {},
   "outputs": [],
   "source": [
    "import pandas as pd\n",
    "import os\n",
    "import re"
   ]
  },
  {
   "cell_type": "code",
   "execution_count": null,
   "metadata": {},
   "outputs": [],
   "source": [
    "df_list=list()\n",
    "\n",
    "# pattern for searching specific Excel files\n",
    "reg_pattern = r\".*_all_tweets_.*\\.xlsx\"\n",
    "\n",
    "# number of lines to skip in Excel files (if needed)\n",
    "skiprows = 3\n",
    "\n",
    "for root, dirs, files in os.walk(os.getcwd()):\n",
    "    \n",
    "    for file in files:\n",
    "        match = re.search(reg_pattern,file)\n",
    "        \n",
    "        if match:\n",
    "            df=pd.read_excel(root+'\\\\'+file, skiprows=3)\n",
    "            \n",
    "            # adding new column with some information from file names (if needed)\n",
    "            # EXAMPLE: adding data about file's folder name\n",
    "            # ctry_code=root.split('\\\\')[-1]\n",
    "            # df['ctry_code']=ctry_code\n",
    "\n",
    "            df_list.append(df)\n",
    "\n",
    "df_res = pd.concat(df_list, ignore_index=True)"
   ]
  },
  {
   "cell_type": "code",
   "execution_count": null,
   "metadata": {},
   "outputs": [],
   "source": []
  }
 ],
 "metadata": {
  "kernelspec": {
   "display_name": "Python 3",
   "language": "python",
   "name": "python3"
  },
  "language_info": {
   "codemirror_mode": {
    "name": "ipython",
    "version": 3
   },
   "file_extension": ".py",
   "mimetype": "text/x-python",
   "name": "python",
   "nbconvert_exporter": "python",
   "pygments_lexer": "ipython3",
   "version": "3.6.4"
  }
 },
 "nbformat": 4,
 "nbformat_minor": 2
}
